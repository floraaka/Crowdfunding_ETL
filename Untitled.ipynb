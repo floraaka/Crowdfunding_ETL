{
 "cells": [
  {
   "cell_type": "code",
   "execution_count": 1,
   "id": "967c353b-56a1-469e-96ba-42a16c1619e8",
   "metadata": {},
   "outputs": [
    {
     "name": "stdout",
     "output_type": "stream",
     "text": [
      "   subcategory_id        subcategory\n",
      "0         subcat1        food trucks\n",
      "1         subcat2               rock\n",
      "2         subcat3                web\n",
      "3         subcat4              plays\n",
      "4         subcat5        documentary\n",
      "5         subcat6     electric music\n",
      "6         subcat7              drama\n",
      "7         subcat8         indie rock\n",
      "8         subcat9          wearables\n",
      "9        subcat10         nonfiction\n",
      "10       subcat11          animation\n",
      "11       subcat12        video games\n",
      "12       subcat13             shorts\n",
      "13       subcat14            fiction\n",
      "14       subcat15  photography books\n",
      "15       subcat16   radio & podcasts\n",
      "16       subcat17              metal\n",
      "17       subcat18               jazz\n",
      "18       subcat19       translations\n",
      "19       subcat20         television\n",
      "20       subcat21       mobile games\n",
      "21       subcat22        world music\n",
      "22       subcat23    science fiction\n",
      "23       subcat24              audio\n"
     ]
    }
   ],
   "source": [
    "import pandas as pd\n",
    "\n",
    "# Step 1: Read the Excel file\n",
    "file_path = 'crowdfunding.xlsx'\n",
    "df = pd.read_excel(file_path)\n",
    "\n",
    "# Step 2: Split the 'category & sub-category' column into 'category' and 'subcategory'\n",
    "df[['category', 'subcategory']] = df['category & sub-category'].str.split('/', expand=True)\n",
    "\n",
    "# Step 3: Get unique subcategories and generate 'subcategory_id'\n",
    "unique_subcategories = df['subcategory'].unique()  # Get unique subcategories\n",
    "subcategory_ids = [f'subcat{i+1}' for i in range(len(unique_subcategories))]  # Create subcategory IDs\n",
    "\n",
    "# Step 4: Create the subcategory DataFrame\n",
    "subcategory_df = pd.DataFrame({\n",
    "    'subcategory_id': subcategory_ids,\n",
    "    'subcategory': unique_subcategories\n",
    "})\n",
    "\n",
    "# Step 5: Export to CSV\n",
    "subcategory_df.to_csv('subcategory.csv', index=False)\n",
    "\n",
    "# Display the result\n",
    "print(subcategory_df)\n"
   ]
  },
  {
   "cell_type": "code",
   "execution_count": null,
   "id": "5bd0702c-3c31-4a8e-83aa-e003b11ebdfa",
   "metadata": {},
   "outputs": [],
   "source": []
  }
 ],
 "metadata": {
  "kernelspec": {
   "display_name": "Python 3 (ipykernel)",
   "language": "python",
   "name": "python3"
  },
  "language_info": {
   "codemirror_mode": {
    "name": "ipython",
    "version": 3
   },
   "file_extension": ".py",
   "mimetype": "text/x-python",
   "name": "python",
   "nbconvert_exporter": "python",
   "pygments_lexer": "ipython3",
   "version": "3.11.7"
  }
 },
 "nbformat": 4,
 "nbformat_minor": 5
}
